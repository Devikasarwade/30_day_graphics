{
  "cells": [
    {
      "cell_type": "markdown",
      "metadata": {
        "id": "view-in-github",
        "colab_type": "text"
      },
      "source": [
        "<a href=\"https://colab.research.google.com/github/Devikasarwade/30_day_graphics/blob/main/task_1_Iris_Flowers_Classification_ML_Project.ipynb\" target=\"_parent\"><img src=\"https://colab.research.google.com/assets/colab-badge.svg\" alt=\"Open In Colab\"/></a>"
      ]
    },
    {
      "cell_type": "markdown",
      "source": [
        "LetsGrowMore- Virtual Internship Program (VIP)- Data Science\n",
        "\n",
        "Beginner Level Task\n",
        "\n",
        "Name:- Devika Hanumant Sarwade\n",
        "\n",
        "Task 1 :- Iris Flower classification"
      ],
      "metadata": {
        "id": "kFOpuE3wU796"
      },
      "id": "kFOpuE3wU796"
    },
    {
      "cell_type": "code",
      "execution_count": null,
      "id": "eabe9102",
      "metadata": {
        "id": "eabe9102"
      },
      "outputs": [],
      "source": [
        "import numpy as np\n",
        "import pandas as pd\n",
        "import matplotlib.pyplot as plt\n",
        "import seaborn as sns"
      ]
    },
    {
      "cell_type": "code",
      "execution_count": null,
      "id": "85b0b589",
      "metadata": {
        "id": "85b0b589",
        "outputId": "70666523-5895-4b60-e8ce-64712673c103"
      },
      "outputs": [
        {
          "data": {
            "text/html": [
              "<div>\n",
              "<style scoped>\n",
              "    .dataframe tbody tr th:only-of-type {\n",
              "        vertical-align: middle;\n",
              "    }\n",
              "\n",
              "    .dataframe tbody tr th {\n",
              "        vertical-align: top;\n",
              "    }\n",
              "\n",
              "    .dataframe thead th {\n",
              "        text-align: right;\n",
              "    }\n",
              "</style>\n",
              "<table border=\"1\" class=\"dataframe\">\n",
              "  <thead>\n",
              "    <tr style=\"text-align: right;\">\n",
              "      <th></th>\n",
              "      <th>Id</th>\n",
              "      <th>SepalLengthCm</th>\n",
              "      <th>SepalWidthCm</th>\n",
              "      <th>PetalLengthCm</th>\n",
              "      <th>PetalWidthCm</th>\n",
              "      <th>Species</th>\n",
              "    </tr>\n",
              "  </thead>\n",
              "  <tbody>\n",
              "    <tr>\n",
              "      <th>0</th>\n",
              "      <td>1</td>\n",
              "      <td>5.1</td>\n",
              "      <td>3.5</td>\n",
              "      <td>1.4</td>\n",
              "      <td>0.2</td>\n",
              "      <td>Iris-setosa</td>\n",
              "    </tr>\n",
              "    <tr>\n",
              "      <th>1</th>\n",
              "      <td>2</td>\n",
              "      <td>4.9</td>\n",
              "      <td>3.0</td>\n",
              "      <td>1.4</td>\n",
              "      <td>0.2</td>\n",
              "      <td>Iris-setosa</td>\n",
              "    </tr>\n",
              "    <tr>\n",
              "      <th>2</th>\n",
              "      <td>3</td>\n",
              "      <td>4.7</td>\n",
              "      <td>3.2</td>\n",
              "      <td>1.3</td>\n",
              "      <td>0.2</td>\n",
              "      <td>Iris-setosa</td>\n",
              "    </tr>\n",
              "    <tr>\n",
              "      <th>3</th>\n",
              "      <td>4</td>\n",
              "      <td>4.6</td>\n",
              "      <td>3.1</td>\n",
              "      <td>1.5</td>\n",
              "      <td>0.2</td>\n",
              "      <td>Iris-setosa</td>\n",
              "    </tr>\n",
              "    <tr>\n",
              "      <th>4</th>\n",
              "      <td>5</td>\n",
              "      <td>5.0</td>\n",
              "      <td>3.6</td>\n",
              "      <td>1.4</td>\n",
              "      <td>0.2</td>\n",
              "      <td>Iris-setosa</td>\n",
              "    </tr>\n",
              "  </tbody>\n",
              "</table>\n",
              "</div>"
            ],
            "text/plain": [
              "   Id  SepalLengthCm  SepalWidthCm  PetalLengthCm  PetalWidthCm      Species\n",
              "0   1            5.1           3.5            1.4           0.2  Iris-setosa\n",
              "1   2            4.9           3.0            1.4           0.2  Iris-setosa\n",
              "2   3            4.7           3.2            1.3           0.2  Iris-setosa\n",
              "3   4            4.6           3.1            1.5           0.2  Iris-setosa\n",
              "4   5            5.0           3.6            1.4           0.2  Iris-setosa"
            ]
          },
          "execution_count": 2,
          "metadata": {},
          "output_type": "execute_result"
        }
      ],
      "source": [
        "data1 = pd.read_csv(\"C:/Users/Admin/Downloads/Iris.csv\")\n",
        "data1.head()"
      ]
    },
    {
      "cell_type": "code",
      "execution_count": null,
      "id": "0c6bfea7",
      "metadata": {
        "id": "0c6bfea7",
        "outputId": "057de648-1691-4d6c-e6d9-fca5bb82ac9c"
      },
      "outputs": [
        {
          "name": "stdout",
          "output_type": "stream",
          "text": [
            "Index(['Id', 'SepalLengthCm', 'SepalWidthCm', 'PetalLengthCm', 'PetalWidthCm',\n",
            "       'Species'],\n",
            "      dtype='object')\n"
          ]
        }
      ],
      "source": [
        "print(data1.columns)"
      ]
    },
    {
      "cell_type": "code",
      "execution_count": null,
      "id": "8619f2dc",
      "metadata": {
        "id": "8619f2dc",
        "outputId": "279077e4-9456-49db-c37b-04c0cf1042c8"
      },
      "outputs": [
        {
          "name": "stdout",
          "output_type": "stream",
          "text": [
            "['Id', 'SepalLengthCm', 'SepalWidthCm', 'PetalLengthCm', 'PetalWidthCm', 'Species']\n"
          ]
        }
      ],
      "source": [
        "#anotherway\n",
        "column = list(data1)\n",
        "print(column)"
      ]
    },
    {
      "cell_type": "code",
      "execution_count": null,
      "id": "fd0cb8de",
      "metadata": {
        "scrolled": true,
        "id": "fd0cb8de",
        "outputId": "207dc118-8cb4-4759-c91e-da123a53c4f3"
      },
      "outputs": [
        {
          "name": "stdout",
          "output_type": "stream",
          "text": [
            "<class 'pandas.core.frame.DataFrame'>\n",
            "RangeIndex: 150 entries, 0 to 149\n",
            "Data columns (total 6 columns):\n",
            " #   Column         Non-Null Count  Dtype  \n",
            "---  ------         --------------  -----  \n",
            " 0   Id             150 non-null    int64  \n",
            " 1   SepalLengthCm  150 non-null    float64\n",
            " 2   SepalWidthCm   150 non-null    float64\n",
            " 3   PetalLengthCm  150 non-null    float64\n",
            " 4   PetalWidthCm   150 non-null    float64\n",
            " 5   Species        150 non-null    object \n",
            "dtypes: float64(4), int64(1), object(1)\n",
            "memory usage: 7.2+ KB\n"
          ]
        }
      ],
      "source": [
        "data1.info()"
      ]
    },
    {
      "cell_type": "code",
      "execution_count": null,
      "id": "8379a046",
      "metadata": {
        "id": "8379a046",
        "outputId": "afa71b9e-d2c6-46af-a4e5-bb72ce1b5c86"
      },
      "outputs": [
        {
          "data": {
            "text/plain": [
              "Id                 int64\n",
              "SepalLengthCm    float64\n",
              "SepalWidthCm     float64\n",
              "PetalLengthCm    float64\n",
              "PetalWidthCm     float64\n",
              "Species           object\n",
              "dtype: object"
            ]
          },
          "execution_count": 13,
          "metadata": {},
          "output_type": "execute_result"
        }
      ],
      "source": [
        "data1.dtypes"
      ]
    },
    {
      "cell_type": "code",
      "execution_count": null,
      "id": "1ae46afb",
      "metadata": {
        "id": "1ae46afb",
        "outputId": "9edd253b-385a-46b8-a64b-10c101e87099"
      },
      "outputs": [
        {
          "data": {
            "text/plain": [
              "array([[<AxesSubplot:title={'center':'Id'}>,\n",
              "        <AxesSubplot:title={'center':'SepalLengthCm'}>],\n",
              "       [<AxesSubplot:title={'center':'SepalWidthCm'}>,\n",
              "        <AxesSubplot:title={'center':'PetalLengthCm'}>],\n",
              "       [<AxesSubplot:title={'center':'PetalWidthCm'}>, <AxesSubplot:>]],\n",
              "      dtype=object)"
            ]
          },
          "execution_count": 20,
          "metadata": {},
          "output_type": "execute_result"
        },
        {
          "data": {
            "image/png": "[encoded data removed]",
            "text/plain": [
              "<Figure size 432x288 with 6 Axes>"
            ]
          },
          "metadata": {
            "needs_background": "light"
          },
          "output_type": "display_data"
        }
      ],
      "source": [
        "data1.hist()"
      ]
    },
    {
      "cell_type": "code",
      "execution_count": null,
      "id": "13c709ba",
      "metadata": {
        "id": "13c709ba",
        "outputId": "4d10a71c-5ba7-41e3-c432-76f17d4dc435"
      },
      "outputs": [
        {
          "data": {
            "image/png": "[encoded data removed]",
            "text/plain": [
              "<Figure size 1152x576 with 4 Axes>"
            ]
          },
          "metadata": {
            "needs_background": "light"
          },
          "output_type": "display_data"
        }
      ],
      "source": [
        "fig, axes = plt.subplots(2, 2, figsize=(16, 8))\n",
        "\n",
        "axes[0,0].set_title(\"Distribution of First Column\")\n",
        "axes[0,0].hist(data1[\"SepalLengthCm\"]);\n",
        "\n",
        "axes[0,1].set_title(\"Distribution of Second Column\")\n",
        "axes[0,1].hist(data1[\"SepalWidthCm\"]);\n",
        "\n",
        "axes[1,0].set_title(\"Distribution of Third Column\")\n",
        "axes[1,0].hist(data1[\"PetalLengthCm\"]);\n",
        "\n",
        "axes[1,1].set_title(\"Distribution of Fourth Column\")\n",
        "axes[1,1].hist(data1[\"PetalWidthCm\"]);"
      ]
    },
    {
      "cell_type": "code",
      "execution_count": null,
      "id": "76f2cd80",
      "metadata": {
        "id": "76f2cd80",
        "outputId": "19866bc3-1839-47c6-c2f4-c7c2a1873678"
      },
      "outputs": [
        {
          "data": {
            "text/plain": [
              "<AxesSubplot:>"
            ]
          },
          "execution_count": 18,
          "metadata": {},
          "output_type": "execute_result"
        },
        {
          "data": {
            "image/png": "[encoded data removed]",
            "text/plain": [
              "<Figure size 432x288 with 1 Axes>"
            ]
          },
          "metadata": {
            "needs_background": "light"
          },
          "output_type": "display_data"
        }
      ],
      "source": [
        "data1.boxplot()"
      ]
    },
    {
      "cell_type": "code",
      "execution_count": null,
      "id": "31e8df5a",
      "metadata": {
        "id": "31e8df5a",
        "outputId": "660c0ac8-e661-49d5-da7e-7d30dc227e1a"
      },
      "outputs": [
        {
          "data": {
            "image/png": "[encoded data removed]",
            "text/plain": [
              "<Figure size 864x576 with 1 Axes>"
            ]
          },
          "metadata": {},
          "output_type": "display_data"
        }
      ],
      "source": [
        "data_to_plot = [data1[\"SepalLengthCm\"],data1[\"SepalWidthCm\"],data1[\"PetalLengthCm\"],data1[\"PetalWidthCm\"]]\n",
        "# Creating a figure instance\n",
        "fig = plt.figure(1, figsize=(12,8))\n",
        "# Creating an axes instance\n",
        "ax = fig.add_subplot(111)\n",
        "# Creating the boxplot\n",
        "bp = ax.boxplot(data_to_plot);"
      ]
    },
    {
      "cell_type": "code",
      "execution_count": null,
      "id": "092ea085",
      "metadata": {
        "id": "092ea085",
        "outputId": "3a9b34ee-5cd6-4deb-e4c4-0b69d9ea8095"
      },
      "outputs": [
        {
          "name": "stderr",
          "output_type": "stream",
          "text": [
            "C:\\ProgramData\\Anaconda3\\lib\\site-packages\\seaborn\\_decorators.py:36: FutureWarning: Pass the following variable as a keyword arg: x. From version 0.12, the only valid positional argument will be `data`, and passing other arguments without an explicit keyword will result in an error or misinterpretation.\n",
            "  warnings.warn(\n"
          ]
        },
        {
          "data": {
            "text/plain": [
              "<AxesSubplot:xlabel='SepalWidthCm'>"
            ]
          },
          "execution_count": 19,
          "metadata": {},
          "output_type": "execute_result"
        },
        {
          "data": {
            "image/png": "[encoded data removed]",
            "text/plain": [
              "<Figure size 432x288 with 1 Axes>"
            ]
          },
          "metadata": {
            "needs_background": "light"
          },
          "output_type": "display_data"
        }
      ],
      "source": [
        "sns.boxplot(data1['SepalWidthCm'])"
      ]
    },
    {
      "cell_type": "code",
      "execution_count": null,
      "id": "4fee0ba6",
      "metadata": {
        "id": "4fee0ba6",
        "outputId": "6760b97b-4ccb-4699-f407-68f37c9f623b"
      },
      "outputs": [
        {
          "name": "stdout",
          "output_type": "stream",
          "text": [
            "(array([15, 32, 33], dtype=int64),)\n"
          ]
        }
      ],
      "source": [
        "print(np.where(data1['SepalWidthCm']>4.0))"
      ]
    },
    {
      "cell_type": "code",
      "execution_count": null,
      "id": "e23f2da8",
      "metadata": {
        "id": "e23f2da8"
      },
      "outputs": [],
      "source": [
        ""
      ]
    }
  ],
  "metadata": {
    "kernelspec": {
      "display_name": "Python 3 (ipykernel)",
      "language": "python",
      "name": "python3"
    },
    "language_info": {
      "codemirror_mode": {
        "name": "ipython",
        "version": 3
      },
      "file_extension": ".py",
      "mimetype": "text/x-python",
      "name": "python",
      "nbconvert_exporter": "python",
      "pygments_lexer": "ipython3",
      "version": "3.9.7"
    },
    "colab": {
      "name": " task_1_Iris Flowers Classification ML Project.ipynb",
      "provenance": [],
      "collapsed_sections": [],
      "include_colab_link": true
    }
  },
  "nbformat": 4,
  "nbformat_minor": 5
}