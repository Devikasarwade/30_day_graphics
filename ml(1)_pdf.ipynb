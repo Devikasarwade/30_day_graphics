{
  "nbformat": 4,
  "nbformat_minor": 0,
  "metadata": {
    "colab": {
      "provenance": [],
      "authorship_tag": "ABX9TyO6hBoypTqMgxSd1CxrSiu7",
      "include_colab_link": true
    },
    "kernelspec": {
      "name": "python3",
      "display_name": "Python 3"
    },
    "language_info": {
      "name": "python"
    }
  },
  "cells": [
    {
      "cell_type": "markdown",
      "metadata": {
        "id": "view-in-github",
        "colab_type": "text"
      },
      "source": [
        "<a href=\"https://colab.research.google.com/github/Devikasarwade/30_day_graphics/blob/main/ml(1)_pdf.ipynb\" target=\"_parent\"><img src=\"https://colab.research.google.com/assets/colab-badge.svg\" alt=\"Open In Colab\"/></a>"
      ]
    },
    {
      "cell_type": "markdown",
      "source": [
        "#                          Machine learning\n",
        "\n",
        "**Devika Sarawade(BBCO19187)**     \n",
        "**Title**:Predict the price of the Uber ride from a given pickup point to the agreed drop-off location. Perform following tasks: 1. Pre-process the dataset. 2. Identify outliers. 3. Check the correlation. 4. Implement linear regression and random forest regression models. 5. Evaluate the models and compare their respective scores like R2, RMSE, etc.\n",
        "Dataset link: https://www.kaggle.com/datasets/yasserh/uber-fares-dataset"
      ],
      "metadata": {
        "id": "NWMUs93Yn00-"
      }
    },
    {
      "cell_type": "code",
      "execution_count": 2,
      "metadata": {
        "colab": {
          "base_uri": "https://localhost:8080/",
          "height": 1553
        },
        "id": "B6K6nqkPg3cn",
        "outputId": "a101afa2-c04e-4308-f69d-95c1aa772187"
      },
      "outputs": [
        {
          "output_type": "stream",
          "name": "stdout",
          "text": [
            "<class 'pandas.core.frame.DataFrame'>\n",
            "RangeIndex: 200000 entries, 0 to 199999\n",
            "Data columns (total 9 columns):\n",
            " #   Column             Non-Null Count   Dtype  \n",
            "---  ------             --------------   -----  \n",
            " 0   Unnamed: 0         200000 non-null  int64  \n",
            " 1   key                200000 non-null  object \n",
            " 2   fare_amount        200000 non-null  float64\n",
            " 3   pickup_datetime    200000 non-null  object \n",
            " 4   pickup_longitude   200000 non-null  float64\n",
            " 5   pickup_latitude    200000 non-null  float64\n",
            " 6   dropoff_longitude  199999 non-null  float64\n",
            " 7   dropoff_latitude   199999 non-null  float64\n",
            " 8   passenger_count    200000 non-null  int64  \n",
            "dtypes: float64(5), int64(2), object(2)\n",
            "memory usage: 13.7+ MB\n",
            "<class 'pandas.core.frame.DataFrame'>\n",
            "Int64Index: 193481 entries, 0 to 199999\n",
            "Data columns (total 10 columns):\n",
            " #   Column             Non-Null Count   Dtype  \n",
            "---  ------             --------------   -----  \n",
            " 0   Unnamed: 0         193481 non-null  int64  \n",
            " 1   key                193481 non-null  object \n",
            " 2   fare_amount        193481 non-null  float64\n",
            " 3   pickup_datetime    193481 non-null  object \n",
            " 4   pickup_longitude   193481 non-null  float64\n",
            " 5   pickup_latitude    193481 non-null  float64\n",
            " 6   dropoff_longitude  193481 non-null  float64\n",
            " 7   dropoff_latitude   193481 non-null  float64\n",
            " 8   passenger_count    193481 non-null  int64  \n",
            " 9   Distance           193481 non-null  float64\n",
            "dtypes: float64(6), int64(2), object(2)\n",
            "memory usage: 20.3+ MB\n",
            "<class 'pandas.core.frame.DataFrame'>\n",
            "Int64Index: 193481 entries, 0 to 199999\n",
            "Data columns (total 2 columns):\n",
            " #   Column    Non-Null Count   Dtype  \n",
            "---  ------    --------------   -----  \n",
            " 0   fare      193481 non-null  float64\n",
            " 1   Distance  193481 non-null  float64\n",
            "dtypes: float64(2)\n",
            "memory usage: 8.5 MB\n"
          ]
        },
        {
          "output_type": "stream",
          "name": "stderr",
          "text": [
            "/usr/local/lib/python3.7/dist-packages/seaborn/distributions.py:2619: FutureWarning: `distplot` is a deprecated function and will be removed in a future version. Please adapt your code to use either `displot` (a figure-level function with similar flexibility) or `histplot` (an axes-level function for histograms).\n",
            "  warnings.warn(msg, FutureWarning)\n"
          ]
        },
        {
          "output_type": "display_data",
          "data": {
            "text/plain": [
              "<Figure size 432x288 with 1 Axes>"
            ],
            "image/png": "[encoded data removed]"
          },
          "metadata": {
            "needs_background": "light"
          }
        },
        {
          "output_type": "display_data",
          "data": {
            "text/plain": [
              "<Figure size 576x288 with 1 Axes>"
            ],
            "image/png": "[encoded data removed]"
          },
          "metadata": {
            "needs_background": "light"
          }
        },
        {
          "output_type": "stream",
          "name": "stdout",
          "text": [
            "Mean Absolute Error: 0.23979020298617273\n",
            "Mean Squared Error: 0.19845894128014688\n",
            "Root Mean Squared Error: 0.4454873076532561\n"
          ]
        },
        {
          "output_type": "execute_result",
          "data": {
            "text/plain": [
              "Text(0.5, 1.0, 'Fare vs Distance (Test Set)')"
            ]
          },
          "metadata": {},
          "execution_count": 2
        },
        {
          "output_type": "display_data",
          "data": {
            "text/plain": [
              "<Figure size 432x288 with 2 Axes>"
            ],
            "image/png": "[encoded data removed]"
          },
          "metadata": {
            "needs_background": "light"
          }
        }
      ],
      "source": [
        "# -*- coding: utf-8 -*-\n",
        "\"\"\"\n",
        "Created on Thu Oct  6 14:13:13 2022\n",
        "\n",
        "@author: Admin\n",
        "\"\"\"\n",
        "\n",
        "# First let's start with calling all the dependencies for this project \n",
        "import numpy as np \n",
        "import pandas as pd\n",
        "import math\n",
        "import matplotlib.pyplot as plt\n",
        "%matplotlib inline \n",
        "import seaborn as sns \n",
        "\n",
        "df = pd.read_csv('/content/uber.csv')\n",
        "df.head()\n",
        "\n",
        "df.shape\n",
        "\n",
        "df.info()\n",
        "\n",
        "#find any null value present\n",
        "df.isnull().sum()\n",
        "\n",
        "#drop null rows\n",
        "df.dropna(axis=0,inplace=True)\n",
        "df.isnull().sum()\n",
        "\n",
        "#Calculatin the distance between the pickup and drop co-ordinates \n",
        "#using the Haversine formual for accuracy.\n",
        "def haversine (lon_1, lon_2, lat_1, lat_2):\n",
        "    \n",
        "    lon_1, lon_2, lat_1, lat_2 = map(np.radians, [lon_1, lon_2, lat_1, lat_2])  #Degrees to Radians\n",
        "    \n",
        "    \n",
        "    diff_lon = lon_2 - lon_1\n",
        "    diff_lat = lat_2 - lat_1\n",
        "    \n",
        "\n",
        "    km = 2 * 6371 * np.arcsin(np.sqrt(np.sin(diff_lat/2.0)**2 + \n",
        "                                      np.cos(lat_1) * np.cos(lat_2) * np.sin(diff_lon/2.0)**2))\n",
        "    \n",
        "    return km\n",
        "\n",
        "\n",
        "#find distance travelled per ride\n",
        "df['Distance']= haversine(df['pickup_longitude'],df['dropoff_longitude'],\n",
        "                             df['pickup_latitude'],df['dropoff_latitude'])\n",
        "\n",
        "#round it to 2 decimal points\n",
        "df['Distance'] = df['Distance'].astype(float).round(2) \n",
        "df.head()\n",
        "\n",
        "plt.scatter(df['Distance'], df['fare_amount'])\n",
        "plt.xlabel(\"Distance\")\n",
        "plt.ylabel(\"fare_amount\")\n",
        "\n",
        "#Outliers\n",
        "#We can get rid of the trips with very large distances that are outliers\n",
        "# as well as trips with 0 distance.\n",
        "df.drop(df[df['Distance'] > 60].index, inplace = True)\n",
        "df.drop(df[df['Distance'] == 0].index, inplace = True)\n",
        "df.drop(df[df['fare_amount'] == 0].index, inplace = True)\n",
        "df.drop(df[df['fare_amount'] < 0].index, inplace = True)\n",
        "df.shape\n",
        "\n",
        "# removing rows with non-plausible fare amounts and distance travelled\n",
        "df.drop(df[(df['fare_amount']>100) & (df['Distance']<1)].index, inplace = True )\n",
        "df.drop(df[(df['fare_amount']<100) & (df['Distance']>100)].index, inplace = True )\n",
        "df.shape\n",
        "\n",
        "plt.scatter(df['Distance'], df['fare_amount'])\n",
        "plt.xlabel(\"Distance\")\n",
        "plt.ylabel(\"fare_amount\")\n",
        "\n",
        "df.info()\n",
        "\n",
        "# Create New DataFrame of Specific column\n",
        "df2 = pd.DataFrame().assign(fare=df['fare_amount'], Distance=df['Distance'])\n",
        "df2.info()\n",
        "\n",
        "df2.shape\n",
        "\n",
        "\n",
        "# plot target fare distribution \n",
        "plt.figure(figsize=[8,4])\n",
        "sns.distplot(df2['fare'], color='g',hist_kws=dict(edgecolor=\"black\", linewidth=2), bins=30)\n",
        "plt.title('Target Variable Distribution')\n",
        "plt.show()\n",
        "\n",
        "#plots\n",
        "plt.scatter(df2['Distance'], df2['fare'])\n",
        "plt.xlabel(\"Distance\")\n",
        "plt.ylabel(\"fare_amount\")\n",
        "\n",
        "\n",
        "x=df2['fare']\n",
        "y=df2['Distance']\n",
        "\n",
        "#independant variable\n",
        "X = df2['Distance'].values.reshape(-1, 1) \n",
        "\n",
        "#dependant variable\n",
        "Y= df2['fare'].values.reshape(-1, 1)\n",
        "\n",
        "# scale by standardscalar\n",
        "from sklearn.preprocessing import StandardScaler\n",
        "std = StandardScaler()\n",
        "y_std = std.fit_transform(Y)\n",
        "x_std = std.fit_transform(X)\n",
        "\n",
        "\n",
        "#split in test-train \n",
        "from sklearn.model_selection import train_test_split\n",
        "X_train, X_test, y_train, y_test = train_test_split(x_std, y_std, test_size=0.2, random_state=0)\n",
        "\n",
        "#simple linear regression\n",
        "from sklearn.linear_model import LinearRegression\n",
        "l_reg = LinearRegression()\n",
        "l_reg.fit(X_train, y_train)\n",
        "\n",
        "#predict test values\n",
        "y_pred = l_reg.predict(X_test)\n",
        "\n",
        "\n",
        "\n",
        "#find the error\n",
        "from sklearn import metrics\n",
        "print('Mean Absolute Error:', metrics.mean_absolute_error(y_test, y_pred))\n",
        "print('Mean Squared Error:', metrics.mean_squared_error(y_test, y_pred))\n",
        "print('Root Mean Squared Error:', np.sqrt(metrics.mean_squared_error(y_test, y_pred)))\n",
        "\n",
        "#final plot\n",
        "plt.subplot(2, 2, 1)\n",
        "plt.scatter(X_train, y_train, color = 'red')\n",
        "plt.plot(X_train, l_reg.predict(X_train), color =\"blue\")\n",
        "plt.title(\"Fare vs Distance (Training Set)\")\n",
        "plt.ylabel(\"fare_amount\")\n",
        "plt.xlabel(\"Distance\")\n",
        "\n",
        "plt.subplot(2, 2, 2)\n",
        "plt.scatter(X_test, y_test, color = 'red')\n",
        "plt.plot(X_train, l_reg.predict(X_train), color =\"blue\")\n",
        "plt.ylabel(\"fare_amount\")\n",
        "plt.xlabel(\"Distance\")\n",
        "plt.title(\"Fare vs Distance (Test Set)\")"
      ]
    }
  ]
}